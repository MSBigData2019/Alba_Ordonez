{
 "cells": [
  {
   "cell_type": "code",
   "execution_count": 31,
   "metadata": {},
   "outputs": [],
   "source": [
    "import requests\n",
    "import json\n",
    "import pandas as pd\n",
    "import re"
   ]
  },
  {
   "cell_type": "markdown",
   "metadata": {},
   "source": [
    "## Chargement du json principal et nettoyage des données"
   ]
  },
  {
   "cell_type": "code",
   "execution_count": 2,
   "metadata": {},
   "outputs": [
    {
     "data": {
      "text/html": [
       "<div>\n",
       "<style scoped>\n",
       "    .dataframe tbody tr th:only-of-type {\n",
       "        vertical-align: middle;\n",
       "    }\n",
       "\n",
       "    .dataframe tbody tr th {\n",
       "        vertical-align: top;\n",
       "    }\n",
       "\n",
       "    .dataframe thead th {\n",
       "        text-align: right;\n",
       "    }\n",
       "</style>\n",
       "<table border=\"1\" class=\"dataframe\">\n",
       "  <thead>\n",
       "    <tr style=\"text-align: right;\">\n",
       "      <th></th>\n",
       "      <th>nom_generique</th>\n",
       "      <th>dosage</th>\n",
       "      <th>unite</th>\n",
       "      <th>type</th>\n",
       "      <th>mul</th>\n",
       "    </tr>\n",
       "  </thead>\n",
       "  <tbody>\n",
       "    <tr>\n",
       "      <th>0</th>\n",
       "      <td>PARACETAMOL ZYDUS</td>\n",
       "      <td>500</td>\n",
       "      <td>mg</td>\n",
       "      <td>gélule</td>\n",
       "      <td>1</td>\n",
       "    </tr>\n",
       "    <tr>\n",
       "      <th>1</th>\n",
       "      <td>PARACETAMOL RATIOPHARM</td>\n",
       "      <td>1000</td>\n",
       "      <td>mg</td>\n",
       "      <td>comprimé</td>\n",
       "      <td>1</td>\n",
       "    </tr>\n",
       "    <tr>\n",
       "      <th>2</th>\n",
       "      <td>PARACETAMOL EG</td>\n",
       "      <td>1</td>\n",
       "      <td>g</td>\n",
       "      <td>comprimé</td>\n",
       "      <td>1000</td>\n",
       "    </tr>\n",
       "    <tr>\n",
       "      <th>3</th>\n",
       "      <td>PARACETAMOL SANDOZ</td>\n",
       "      <td>500</td>\n",
       "      <td>mg</td>\n",
       "      <td>gélule</td>\n",
       "      <td>1</td>\n",
       "    </tr>\n",
       "    <tr>\n",
       "      <th>4</th>\n",
       "      <td>PARACETAMOL RATIOPHARM</td>\n",
       "      <td>500</td>\n",
       "      <td>mg</td>\n",
       "      <td>gélule</td>\n",
       "      <td>1</td>\n",
       "    </tr>\n",
       "  </tbody>\n",
       "</table>\n",
       "</div>"
      ],
      "text/plain": [
       "             nom_generique dosage unite       type   mul\n",
       "0       PARACETAMOL ZYDUS     500    mg     gélule     1\n",
       "1  PARACETAMOL RATIOPHARM    1000    mg   comprimé     1\n",
       "2          PARACETAMOL EG       1     g   comprimé  1000\n",
       "3      PARACETAMOL SANDOZ     500    mg     gélule     1\n",
       "4  PARACETAMOL RATIOPHARM     500    mg     gélule     1"
      ]
     },
     "execution_count": 2,
     "metadata": {},
     "output_type": "execute_result"
    }
   ],
   "source": [
    "url = \"https://www.open-medicaments.fr/api/v1/medicaments?limit=100&query=paracetamol\"\n",
    "json = requests.get(url).json()\n",
    "\n",
    "df=pd.DataFrame(json)\n",
    "\n",
    "reg=r'([\\D]*)(\\d+)(.*),(.*)'\n",
    "\n",
    "df_clean = df['denomination'].str.extract(reg)\n",
    "\n",
    "df_clean = df_clean.rename(index=str, columns={0: \"nom_generique\",\n",
    "                                    1: \"dosage\",\n",
    "                                    2: \"unite\",\n",
    "                                    3: \"type\"})\n",
    "\n",
    "\n",
    "df_clean['mul']=1000\n",
    "df_clean['mul']=df_clean['mul'].where(df_clean['unite'].str.strip()==\"g\",1)\n",
    "\n",
    "df_clean.head()"
   ]
  },
  {
   "cell_type": "code",
   "execution_count": 3,
   "metadata": {},
   "outputs": [
    {
     "data": {
      "text/html": [
       "<div>\n",
       "<style scoped>\n",
       "    .dataframe tbody tr th:only-of-type {\n",
       "        vertical-align: middle;\n",
       "    }\n",
       "\n",
       "    .dataframe tbody tr th {\n",
       "        vertical-align: top;\n",
       "    }\n",
       "\n",
       "    .dataframe thead th {\n",
       "        text-align: right;\n",
       "    }\n",
       "</style>\n",
       "<table border=\"1\" class=\"dataframe\">\n",
       "  <thead>\n",
       "    <tr style=\"text-align: right;\">\n",
       "      <th></th>\n",
       "      <th>nom_generique</th>\n",
       "      <th>dosage</th>\n",
       "      <th>unite</th>\n",
       "      <th>type</th>\n",
       "      <th>mul</th>\n",
       "    </tr>\n",
       "  </thead>\n",
       "  <tbody>\n",
       "    <tr>\n",
       "      <th>0</th>\n",
       "      <td>PARACETAMOL ZYDUS</td>\n",
       "      <td>500</td>\n",
       "      <td>mg</td>\n",
       "      <td>gélule</td>\n",
       "      <td>1</td>\n",
       "    </tr>\n",
       "    <tr>\n",
       "      <th>1</th>\n",
       "      <td>PARACETAMOL RATIOPHARM</td>\n",
       "      <td>1000</td>\n",
       "      <td>mg</td>\n",
       "      <td>comprimé</td>\n",
       "      <td>1</td>\n",
       "    </tr>\n",
       "    <tr>\n",
       "      <th>2</th>\n",
       "      <td>PARACETAMOL EG</td>\n",
       "      <td>1000</td>\n",
       "      <td>g</td>\n",
       "      <td>comprimé</td>\n",
       "      <td>1000</td>\n",
       "    </tr>\n",
       "    <tr>\n",
       "      <th>3</th>\n",
       "      <td>PARACETAMOL SANDOZ</td>\n",
       "      <td>500</td>\n",
       "      <td>mg</td>\n",
       "      <td>gélule</td>\n",
       "      <td>1</td>\n",
       "    </tr>\n",
       "    <tr>\n",
       "      <th>4</th>\n",
       "      <td>PARACETAMOL RATIOPHARM</td>\n",
       "      <td>500</td>\n",
       "      <td>mg</td>\n",
       "      <td>gélule</td>\n",
       "      <td>1</td>\n",
       "    </tr>\n",
       "  </tbody>\n",
       "</table>\n",
       "</div>"
      ],
      "text/plain": [
       "             nom_generique  dosage unite       type   mul\n",
       "0       PARACETAMOL ZYDUS      500    mg     gélule     1\n",
       "1  PARACETAMOL RATIOPHARM     1000    mg   comprimé     1\n",
       "2          PARACETAMOL EG     1000     g   comprimé  1000\n",
       "3      PARACETAMOL SANDOZ      500    mg     gélule     1\n",
       "4  PARACETAMOL RATIOPHARM      500    mg     gélule     1"
      ]
     },
     "execution_count": 3,
     "metadata": {},
     "output_type": "execute_result"
    }
   ],
   "source": [
    "df_clean['dosage'] = df_clean['dosage'].fillna(0).astype(int)*df_clean['mul']\n",
    "df_clean.head()"
   ]
  },
  {
   "cell_type": "markdown",
   "metadata": {},
   "source": [
    "## Chargement des fiches médicaments"
   ]
  },
  {
   "cell_type": "code",
   "execution_count": null,
   "metadata": {},
   "outputs": [],
   "source": [
    "pages_ICS = [f\"https://www.open-medicaments.fr/api/v1/medicaments/{elm['codeCIS']}\" for elm in json]\n",
    "\n",
    "json_ICS=[requests.get(url).json() for url in pages_ICS]"
   ]
  },
  {
   "cell_type": "code",
   "execution_count": 32,
   "metadata": {},
   "outputs": [
    {
     "data": {
      "text/html": [
       "<div>\n",
       "<style scoped>\n",
       "    .dataframe tbody tr th:only-of-type {\n",
       "        vertical-align: middle;\n",
       "    }\n",
       "\n",
       "    .dataframe tbody tr th {\n",
       "        vertical-align: top;\n",
       "    }\n",
       "\n",
       "    .dataframe thead th {\n",
       "        text-align: right;\n",
       "    }\n",
       "</style>\n",
       "<table border=\"1\" class=\"dataframe\">\n",
       "  <thead>\n",
       "    <tr style=\"text-align: right;\">\n",
       "      <th></th>\n",
       "      <th>gelules</th>\n",
       "    </tr>\n",
       "  </thead>\n",
       "  <tbody>\n",
       "    <tr>\n",
       "      <th>0</th>\n",
       "      <td>16</td>\n",
       "    </tr>\n",
       "    <tr>\n",
       "      <th>1</th>\n",
       "      <td>8</td>\n",
       "    </tr>\n",
       "    <tr>\n",
       "      <th>2</th>\n",
       "      <td>8</td>\n",
       "    </tr>\n",
       "    <tr>\n",
       "      <th>3</th>\n",
       "      <td>16</td>\n",
       "    </tr>\n",
       "    <tr>\n",
       "      <th>4</th>\n",
       "      <td>16</td>\n",
       "    </tr>\n",
       "  </tbody>\n",
       "</table>\n",
       "</div>"
      ],
      "text/plain": [
       "  gelules\n",
       "0      16\n",
       "1       8\n",
       "2       8\n",
       "3      16\n",
       "4      16"
      ]
     },
     "execution_count": 32,
     "metadata": {},
     "output_type": "execute_result"
    }
   ],
   "source": [
    "reg = r'(\\d+)'\n",
    "libelles = [medicament[\"presentations\"][0][\"libelle\"] for medicament in json_ICS]\n",
    "\n",
    "nb_types = pd.DataFrame({\"gelules\":[re.findall(reg1,libelle)[-1] for libelle in libelles]})\n",
    "nb_types.head()"
   ]
  }
 ],
 "metadata": {
  "kernelspec": {
   "display_name": "Python 3",
   "language": "python",
   "name": "python3"
  },
  "language_info": {
   "codemirror_mode": {
    "name": "ipython",
    "version": 3
   },
   "file_extension": ".py",
   "mimetype": "text/x-python",
   "name": "python",
   "nbconvert_exporter": "python",
   "pygments_lexer": "ipython3",
   "version": "3.7.0"
  }
 },
 "nbformat": 4,
 "nbformat_minor": 2
}
